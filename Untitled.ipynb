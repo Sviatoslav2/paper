{
 "cells": [
  {
   "cell_type": "code",
   "execution_count": 13,
   "metadata": {},
   "outputs": [],
   "source": [
    "import pandas as pd\n",
    "import numpy as np\n",
    "from sklearn import metrics\n",
    "from sklearn.model_selection import cross_val_score, train_test_split"
   ]
  },
  {
   "cell_type": "code",
   "execution_count": 14,
   "metadata": {},
   "outputs": [],
   "source": [
    "columns = ['ID', 'Name', 'Age', 'Photo', 'Nationality', 'Flag', 'Overall', 'Potential', 'Club', 'Club Logo', 'Value', 'Wage', 'Special']\n",
    "col_types = {'Overall': np.int32, 'Age': np.int32}\n",
    "\n",
    "\n",
    "data = pd.read_csv(\"CompleteDataset.csv\", usecols=['Name', 'Photo', 'Value', 'Overall', 'Age', 'Finishing','Potential','Wage','Special'], dtype=col_types)\n"
   ]
  },
  {
   "cell_type": "code",
   "execution_count": 15,
   "metadata": {},
   "outputs": [],
   "source": [
    "def Value_to_int(strVal):\n",
    "    key = 0\n",
    "    \n",
    "    \n",
    "    if 'M' in strVal:\n",
    "        key = 1000000\n",
    "        strVal = strVal.replace('M', '')\n",
    "        \n",
    "    if '€' in strVal:\n",
    "        strVal = strVal.replace('€', '')\n",
    "    if 'K' in strVal:\n",
    "        key = 1000\n",
    "    strVal = strVal.replace('K', '')\n",
    "    \n",
    "    return float(strVal) * key\n",
    "    \n",
    "    \n",
    "data['Value'] = data['Value'].apply(lambda x: Value_to_int(x))  \n",
    "data['Wage'] = data['Wage'].apply(lambda x: Value_to_int(x))  "
   ]
  },
  {
   "cell_type": "code",
   "execution_count": 16,
   "metadata": {},
   "outputs": [
    {
     "name": "stdout",
     "output_type": "stream",
     "text": [
      "[]\n"
     ]
    }
   ],
   "source": [
    "#check if there are null/missing values and how many in each column\n",
    "df_check = data.isnull().sum()\n",
    "lst = []\n",
    "for i in df_check.index:\n",
    "    if df_check[i] != 0:\n",
    "        lst.append(i)\n",
    "print(lst)        "
   ]
  },
  {
   "cell_type": "code",
   "execution_count": 17,
   "metadata": {},
   "outputs": [],
   "source": [
    "def is_it_number_1_99(number):\n",
    "    try:\n",
    "        return (1 <= int(number) and int(number) <= 99)\n",
    "    except ValueError:\n",
    "        return False\n",
    "\n",
    "data = data.loc[data['Finishing'].apply(lambda x: is_it_number_1_99(x))]\n",
    "data['Finishing'] = data['Finishing'].astype('int')\n",
    "numeric_features = data.select_dtypes(include=[np.number])\n"
   ]
  },
  {
   "cell_type": "code",
   "execution_count": 18,
   "metadata": {},
   "outputs": [
    {
     "data": {
      "text/html": [
       "<div>\n",
       "<style scoped>\n",
       "    .dataframe tbody tr th:only-of-type {\n",
       "        vertical-align: middle;\n",
       "    }\n",
       "\n",
       "    .dataframe tbody tr th {\n",
       "        vertical-align: top;\n",
       "    }\n",
       "\n",
       "    .dataframe thead th {\n",
       "        text-align: right;\n",
       "    }\n",
       "</style>\n",
       "<table border=\"1\" class=\"dataframe\">\n",
       "  <thead>\n",
       "    <tr style=\"text-align: right;\">\n",
       "      <th></th>\n",
       "      <th>Age</th>\n",
       "      <th>Overall</th>\n",
       "      <th>Potential</th>\n",
       "      <th>Value</th>\n",
       "      <th>Wage</th>\n",
       "      <th>Special</th>\n",
       "      <th>Finishing</th>\n",
       "    </tr>\n",
       "  </thead>\n",
       "  <tbody>\n",
       "    <tr>\n",
       "      <th>count</th>\n",
       "      <td>17867.000000</td>\n",
       "      <td>17867.000000</td>\n",
       "      <td>17867.000000</td>\n",
       "      <td>1.786700e+04</td>\n",
       "      <td>17867.000000</td>\n",
       "      <td>17867.000000</td>\n",
       "      <td>17867.00000</td>\n",
       "    </tr>\n",
       "    <tr>\n",
       "      <th>mean</th>\n",
       "      <td>25.148318</td>\n",
       "      <td>66.242682</td>\n",
       "      <td>71.186265</td>\n",
       "      <td>2.383348e+06</td>\n",
       "      <td>11550.288241</td>\n",
       "      <td>1593.475178</td>\n",
       "      <td>45.20272</td>\n",
       "    </tr>\n",
       "    <tr>\n",
       "      <th>std</th>\n",
       "      <td>4.617491</td>\n",
       "      <td>6.992014</td>\n",
       "      <td>6.102744</td>\n",
       "      <td>5.361809e+06</td>\n",
       "      <td>23113.941974</td>\n",
       "      <td>272.450081</td>\n",
       "      <td>19.47324</td>\n",
       "    </tr>\n",
       "    <tr>\n",
       "      <th>min</th>\n",
       "      <td>16.000000</td>\n",
       "      <td>46.000000</td>\n",
       "      <td>46.000000</td>\n",
       "      <td>0.000000e+00</td>\n",
       "      <td>0.000000</td>\n",
       "      <td>728.000000</td>\n",
       "      <td>2.00000</td>\n",
       "    </tr>\n",
       "    <tr>\n",
       "      <th>25%</th>\n",
       "      <td>21.000000</td>\n",
       "      <td>62.000000</td>\n",
       "      <td>67.000000</td>\n",
       "      <td>3.000000e+05</td>\n",
       "      <td>2000.000000</td>\n",
       "      <td>1448.000000</td>\n",
       "      <td>29.00000</td>\n",
       "    </tr>\n",
       "    <tr>\n",
       "      <th>50%</th>\n",
       "      <td>25.000000</td>\n",
       "      <td>66.000000</td>\n",
       "      <td>71.000000</td>\n",
       "      <td>6.750000e+05</td>\n",
       "      <td>4000.000000</td>\n",
       "      <td>1633.000000</td>\n",
       "      <td>48.00000</td>\n",
       "    </tr>\n",
       "    <tr>\n",
       "      <th>75%</th>\n",
       "      <td>28.000000</td>\n",
       "      <td>71.000000</td>\n",
       "      <td>75.000000</td>\n",
       "      <td>2.100000e+06</td>\n",
       "      <td>12000.000000</td>\n",
       "      <td>1785.000000</td>\n",
       "      <td>61.00000</td>\n",
       "    </tr>\n",
       "    <tr>\n",
       "      <th>max</th>\n",
       "      <td>47.000000</td>\n",
       "      <td>94.000000</td>\n",
       "      <td>94.000000</td>\n",
       "      <td>1.230000e+08</td>\n",
       "      <td>565000.000000</td>\n",
       "      <td>2291.000000</td>\n",
       "      <td>95.00000</td>\n",
       "    </tr>\n",
       "  </tbody>\n",
       "</table>\n",
       "</div>"
      ],
      "text/plain": [
       "                Age       Overall     Potential         Value           Wage  \\\n",
       "count  17867.000000  17867.000000  17867.000000  1.786700e+04   17867.000000   \n",
       "mean      25.148318     66.242682     71.186265  2.383348e+06   11550.288241   \n",
       "std        4.617491      6.992014      6.102744  5.361809e+06   23113.941974   \n",
       "min       16.000000     46.000000     46.000000  0.000000e+00       0.000000   \n",
       "25%       21.000000     62.000000     67.000000  3.000000e+05    2000.000000   \n",
       "50%       25.000000     66.000000     71.000000  6.750000e+05    4000.000000   \n",
       "75%       28.000000     71.000000     75.000000  2.100000e+06   12000.000000   \n",
       "max       47.000000     94.000000     94.000000  1.230000e+08  565000.000000   \n",
       "\n",
       "            Special    Finishing  \n",
       "count  17867.000000  17867.00000  \n",
       "mean    1593.475178     45.20272  \n",
       "std      272.450081     19.47324  \n",
       "min      728.000000      2.00000  \n",
       "25%     1448.000000     29.00000  \n",
       "50%     1633.000000     48.00000  \n",
       "75%     1785.000000     61.00000  \n",
       "max     2291.000000     95.00000  "
      ]
     },
     "execution_count": 18,
     "metadata": {},
     "output_type": "execute_result"
    }
   ],
   "source": [
    "#descriptive analysis\n",
    "#How good is a certain soccer player? \n",
    "import seaborn as sns\n",
    "data.describe()"
   ]
  },
  {
   "cell_type": "code",
   "execution_count": 19,
   "metadata": {},
   "outputs": [
    {
     "data": {
      "text/plain": [
       "<matplotlib.axes._subplots.AxesSubplot at 0x1f7e1a65940>"
      ]
     },
     "execution_count": 19,
     "metadata": {},
     "output_type": "execute_result"
    },
    {
     "data": {
      "image/png": "[encoded data removed]",
      "text/plain": [
       "<Figure size 432x288 with 1 Axes>"
      ]
     },
     "metadata": {},
     "output_type": "display_data"
    }
   ],
   "source": [
    "sns.countplot(data.Age)"
   ]
  },
  {
   "cell_type": "code",
   "execution_count": 20,
   "metadata": {},
   "outputs": [
    {
     "data": {
      "text/plain": [
       "<matplotlib.axes._subplots.AxesSubplot at 0x1f7e1da3208>"
      ]
     },
     "execution_count": 20,
     "metadata": {},
     "output_type": "execute_result"
    },
    {
     "data": {
      "image/png": "[encoded data removed]",
      "text/plain": [
       "<Figure size 432x288 with 1 Axes>"
      ]
     },
     "metadata": {},
     "output_type": "display_data"
    }
   ],
   "source": [
    "sns.countplot(data.Overall)"
   ]
  },
  {
   "cell_type": "code",
   "execution_count": 23,
   "metadata": {},
   "outputs": [
    {
     "name": "stdout",
     "output_type": "stream",
     "text": [
      "The mean =  66.2426820395142  standard deviation =  6.992014326271078\n"
     ]
    }
   ],
   "source": [
    "mean_overall = data.Overall.mean()\n",
    "std_overall = data.Overall.std()\n",
    "print('The mean = ', mean_overall, ' standard deviation = ', std_overall)"
   ]
  },
  {
   "cell_type": "code",
   "execution_count": null,
   "metadata": {},
   "outputs": [],
   "source": []
  },
  {
   "cell_type": "code",
   "execution_count": 24,
   "metadata": {},
   "outputs": [
    {
     "name": "stdout",
     "output_type": "stream",
     "text": [
      "                    Name  Age  \\\n",
      "0      Cristiano Ronaldo   32   \n",
      "1               L. Messi   30   \n",
      "2                 Neymar   25   \n",
      "3              L. Suárez   30   \n",
      "4               M. Neuer   31   \n",
      "5         R. Lewandowski   28   \n",
      "6                 De Gea   26   \n",
      "7              E. Hazard   26   \n",
      "8               T. Kroos   27   \n",
      "9             G. Higuaín   29   \n",
      "10          Sergio Ramos   31   \n",
      "11          K. De Bruyne   26   \n",
      "12           T. Courtois   25   \n",
      "13            A. Sánchez   28   \n",
      "14             L. Modrić   31   \n",
      "15               G. Bale   27   \n",
      "16             S. Agüero   29   \n",
      "17          G. Chiellini   32   \n",
      "18             G. Buffon   39   \n",
      "19             P. Dybala   23   \n",
      "20              J. Oblak   24   \n",
      "21          A. Griezmann   26   \n",
      "22                Thiago   26   \n",
      "23         P. Aubameyang   28   \n",
      "24            L. Bonucci   30   \n",
      "25            J. Boateng   28   \n",
      "26              D. Godín   31   \n",
      "27            M. Hummels   28   \n",
      "28               M. Özil   28   \n",
      "29             H. Lloris   30   \n",
      "...                  ...  ...   \n",
      "17951           M. Hurst   21   \n",
      "17952       A. Osmanoski   17   \n",
      "17953          K. Cotter   18   \n",
      "17954        T. Robinson   19   \n",
      "17955          R. Hughes   18   \n",
      "17956        Z. Mohammed   17   \n",
      "17957         D. Peppard   17   \n",
      "17958          C. Rogers   17   \n",
      "17959      N. McLaughlin   18   \n",
      "17960           L. Kiely   18   \n",
      "17961   J. Latibeaudiere   17   \n",
      "17962           J. Payne   18   \n",
      "17963          G. Manley   19   \n",
      "17964        P. Phillips   18   \n",
      "17965           A. Byrne   18   \n",
      "17966        K. Fujikawa   18   \n",
      "17967            K. Egan   19   \n",
      "17968      T. Brownsword   17   \n",
      "17969         F. Prohart   18   \n",
      "17970         A. Kilgour   19   \n",
      "17971           R. White   18   \n",
      "17972          A. Conway   19   \n",
      "17973          T. Sawyer   18   \n",
      "17974          J. Keeble   18   \n",
      "17975       T. Käßemodel   28   \n",
      "17976          A. Kelsey   17   \n",
      "17977      B. Richardson   47   \n",
      "17978           J. Young   17   \n",
      "17979       J. Lundstram   18   \n",
      "17980          L. Sackey   18   \n",
      "\n",
      "                                                 Photo  Overall  Potential  \\\n",
      "0       https://cdn.sofifa.org/48/18/players/20801.png       94         94   \n",
      "1      https://cdn.sofifa.org/48/18/players/158023.png       93         93   \n",
      "2      https://cdn.sofifa.org/48/18/players/190871.png       92         94   \n",
      "3      https://cdn.sofifa.org/48/18/players/176580.png       92         92   \n",
      "4      https://cdn.sofifa.org/48/18/players/167495.png       92         92   \n",
      "5      https://cdn.sofifa.org/48/18/players/188545.png       91         91   \n",
      "6      https://cdn.sofifa.org/48/18/players/193080.png       90         92   \n",
      "7      https://cdn.sofifa.org/48/18/players/183277.png       90         91   \n",
      "8      https://cdn.sofifa.org/48/18/players/182521.png       90         90   \n",
      "9      https://cdn.sofifa.org/48/18/players/167664.png       90         90   \n",
      "10     https://cdn.sofifa.org/48/18/players/155862.png       90         90   \n",
      "11     https://cdn.sofifa.org/48/18/players/192985.png       89         92   \n",
      "12     https://cdn.sofifa.org/48/18/players/192119.png       89         92   \n",
      "13     https://cdn.sofifa.org/48/18/players/184941.png       89         89   \n",
      "14     https://cdn.sofifa.org/48/18/players/177003.png       89         89   \n",
      "15     https://cdn.sofifa.org/48/18/players/173731.png       89         89   \n",
      "16     https://cdn.sofifa.org/48/18/players/153079.png       89         89   \n",
      "17     https://cdn.sofifa.org/48/18/players/138956.png       89         89   \n",
      "18       https://cdn.sofifa.org/48/18/players/1179.png       89         89   \n",
      "19     https://cdn.sofifa.org/48/18/players/211110.png       88         93   \n",
      "20     https://cdn.sofifa.org/48/18/players/200389.png       88         93   \n",
      "21     https://cdn.sofifa.org/48/18/players/194765.png       88         91   \n",
      "22     https://cdn.sofifa.org/48/18/players/189509.png       88         90   \n",
      "23     https://cdn.sofifa.org/48/18/players/188567.png       88         88   \n",
      "24     https://cdn.sofifa.org/48/18/players/184344.png       88         88   \n",
      "25     https://cdn.sofifa.org/48/18/players/183907.png       88         88   \n",
      "26     https://cdn.sofifa.org/48/18/players/182493.png       88         88   \n",
      "27     https://cdn.sofifa.org/48/18/players/178603.png       88         88   \n",
      "28     https://cdn.sofifa.org/48/18/players/176635.png       88         88   \n",
      "29     https://cdn.sofifa.org/48/18/players/167948.png       88         88   \n",
      "...                                                ...      ...        ...   \n",
      "17951  https://cdn.sofifa.org/48/18/players/221669.png       48         58   \n",
      "17952  https://cdn.sofifa.org/48/18/players/239079.png       48         68   \n",
      "17953  https://cdn.sofifa.org/48/18/players/238833.png       48         67   \n",
      "17954  https://cdn.sofifa.org/48/18/players/225778.png       48         64   \n",
      "17955  https://cdn.sofifa.org/48/18/players/231928.png       48         63   \n",
      "17956  https://cdn.sofifa.org/48/18/players/240381.png       48         64   \n",
      "17957  https://cdn.sofifa.org/48/18/players/236807.png       47         61   \n",
      "17958  https://cdn.sofifa.org/48/18/players/237859.png       47         59   \n",
      "17959  https://cdn.sofifa.org/48/18/players/225319.png       47         64   \n",
      "17960  https://cdn.sofifa.org/48/18/players/236597.png       47         69   \n",
      "17961  https://cdn.sofifa.org/48/18/players/233047.png       47         73   \n",
      "17962  https://cdn.sofifa.org/48/18/players/236425.png       47         63   \n",
      "17963  https://cdn.sofifa.org/48/18/players/238217.png       47         58   \n",
      "17964  https://cdn.sofifa.org/48/18/players/238985.png       47         67   \n",
      "17965  https://cdn.sofifa.org/48/18/players/238219.png       47         61   \n",
      "17966  https://cdn.sofifa.org/48/18/players/238477.png       47         67   \n",
      "17967  https://cdn.sofifa.org/48/18/players/231824.png       47         67   \n",
      "17968  https://cdn.sofifa.org/48/18/players/237974.png       47         68   \n",
      "17969  https://cdn.sofifa.org/48/18/players/236954.png       47         67   \n",
      "17970  https://cdn.sofifa.org/48/18/players/231107.png       47         56   \n",
      "17971  https://cdn.sofifa.org/48/18/players/240325.png       47         65   \n",
      "17972  https://cdn.sofifa.org/48/18/players/238306.png       47         63   \n",
      "17973  https://cdn.sofifa.org/48/18/players/240403.png       46         58   \n",
      "17974  https://cdn.sofifa.org/48/18/players/240404.png       46         56   \n",
      "17975  https://cdn.sofifa.org/48/18/players/235352.png       46         46   \n",
      "17976  https://cdn.sofifa.org/48/18/players/237463.png       46         63   \n",
      "17977   https://cdn.sofifa.org/48/18/players/11728.png       46         46   \n",
      "17978  https://cdn.sofifa.org/48/18/players/231381.png       46         61   \n",
      "17979  https://cdn.sofifa.org/48/18/players/238813.png       46         64   \n",
      "17980  https://cdn.sofifa.org/48/18/players/238308.png       46         64   \n",
      "\n",
      "             Value      Wage  Special  Finishing  \n",
      "0       95500000.0  565000.0     2228         94  \n",
      "1      105000000.0  565000.0     2154         95  \n",
      "2      123000000.0  280000.0     2100         89  \n",
      "3       97000000.0  510000.0     2291         94  \n",
      "4       61000000.0  230000.0     1493         13  \n",
      "5       92000000.0  355000.0     2143         91  \n",
      "6       64500000.0  215000.0     1458         13  \n",
      "7       90500000.0  295000.0     2096         83  \n",
      "8       79000000.0  340000.0     2165         76  \n",
      "9       77000000.0  275000.0     1961         91  \n",
      "10      52000000.0  310000.0     2153         60  \n",
      "11      83000000.0  285000.0     2162         83  \n",
      "12      59000000.0  190000.0     1282         14  \n",
      "13      67500000.0  265000.0     2181         85  \n",
      "14      57000000.0  340000.0     2228         71  \n",
      "15      69500000.0  370000.0     2263         87  \n",
      "16      66500000.0  325000.0     2074         90  \n",
      "17      38000000.0  225000.0     1867         33  \n",
      "18       4500000.0  110000.0     1335         15  \n",
      "19      79000000.0  215000.0     2063         85  \n",
      "20      57000000.0   82000.0     1290         11  \n",
      "21      75000000.0  150000.0     2104         88  \n",
      "22      70500000.0  225000.0     2185         69  \n",
      "23      61000000.0  165000.0     2078         88  \n",
      "24      44000000.0  210000.0     1995         39  \n",
      "25      48000000.0  215000.0     1989         34  \n",
      "26      40000000.0  125000.0     1930         42  \n",
      "27      48000000.0  215000.0     2038         55  \n",
      "28      60000000.0  265000.0     1927         74  \n",
      "29      38000000.0  165000.0     1318         10  \n",
      "...            ...       ...      ...        ...  \n",
      "17951      40000.0    1000.0      991         15  \n",
      "17952      60000.0    1000.0     1377         31  \n",
      "17953      60000.0    1000.0     1329         29  \n",
      "17954      60000.0    1000.0     1257         45  \n",
      "17955      60000.0    1000.0     1330         32  \n",
      "17956      50000.0    1000.0     1167         23  \n",
      "17957      50000.0    1000.0     1199         17  \n",
      "17958      40000.0    1000.0     1189         24  \n",
      "17959      60000.0    1000.0     1330         47  \n",
      "17960      70000.0    1000.0     1290         36  \n",
      "17961      60000.0    5000.0     1132         19  \n",
      "17962      50000.0    1000.0     1219         26  \n",
      "17963      50000.0    1000.0     1298         29  \n",
      "17964      60000.0    1000.0     1297         26  \n",
      "17965      60000.0    1000.0     1346         28  \n",
      "17966      60000.0    1000.0     1317         28  \n",
      "17967      60000.0    1000.0     1225         23  \n",
      "17968      60000.0    1000.0     1143         21  \n",
      "17969      60000.0    1000.0     1238         50  \n",
      "17970      40000.0    1000.0     1208         22  \n",
      "17971      60000.0    2000.0     1265         59  \n",
      "17972      60000.0    1000.0     1314         34  \n",
      "17973      50000.0    1000.0     1267         35  \n",
      "17974      40000.0    1000.0     1105         15  \n",
      "17975      30000.0    1000.0     1174         40  \n",
      "17976      50000.0    1000.0      755          5  \n",
      "17977          0.0    1000.0      832         11  \n",
      "17978      60000.0    1000.0     1194         47  \n",
      "17979      60000.0    1000.0     1302         32  \n",
      "17980      50000.0    1000.0     1031         20  \n",
      "\n",
      "[17867 rows x 9 columns]\n"
     ]
    }
   ],
   "source": [
    "print(data)"
   ]
  },
  {
   "cell_type": "code",
   "execution_count": 25,
   "metadata": {},
   "outputs": [
    {
     "data": {
      "image/png": "[encoded data removed]",
      "text/plain": [
       "<Figure size 432x288 with 2 Axes>"
      ]
     },
     "metadata": {},
     "output_type": "display_data"
    }
   ],
   "source": [
    "import matplotlib.pyplot as plt\n",
    "\n",
    "corr = numeric_features.corr()\n",
    "correlation = data.corr(method='pearson')\n",
    "columns = correlation.nlargest(10, \"Overall\").index\n",
    "correlation_map = np.corrcoef(data[columns].values.T)\n",
    "sns.set(font_scale=1.0)\n",
    "heatmap = sns.heatmap(correlation_map, cbar=True, annot=True, square=True, fmt='.2f', yticklabels=columns.values, xticklabels=columns.values)\n",
    "plt.show()"
   ]
  },
  {
   "cell_type": "code",
   "execution_count": 26,
   "metadata": {},
   "outputs": [],
   "source": [
    "target = 'Age'\n",
    "def modelfit(alg, dtrain, dtest, predictors, target):\n",
    "    alg.fit(dtrain[predictors], dtrain[target])\n",
    "    dtrain_predictions = alg.predict(dtrain[predictors])\n",
    "\n",
    "    print(\"Model Report\")\n",
    "    print(\"RMSE : %.4g\" % np.sqrt(metrics.mean_squared_error((dtrain[target]).values, dtrain_predictions)))\n",
    "    \n",
    "    \n",
    "    y_pred = alg.predict(dtest[predictors])\n",
    "    y_true = np.array(dtest[target])\n",
    "    return alg\n",
    "\n",
    "\n",
    "\n",
    "    \n",
    "    \n",
    "train_df, test_df, Y_train, Y_test =  train_test_split (data, data[target], test_size=0.20, random_state=99)   \n",
    "predictors = train_df.columns.drop([target])    "
   ]
  },
  {
   "cell_type": "code",
   "execution_count": 29,
   "metadata": {},
   "outputs": [
    {
     "name": "stdout",
     "output_type": "stream",
     "text": [
      "Model Report\n",
      "RMSE : 2.283\n"
     ]
    }
   ],
   "source": [
    "from sklearn import linear_model\n",
    "\n",
    "predictors = [i for i in numeric_features.columns if i != target]\n",
    "\n",
    "regr1 = linear_model.LinearRegression()\n",
    "regr1 = modelfit(regr1, train_df, test_df, predictors, target)\n",
    "y_pred = regr1.predict(test_df[predictors])"
   ]
  },
  {
   "cell_type": "code",
   "execution_count": null,
   "metadata": {},
   "outputs": [],
   "source": [
    "from sklearn.svm import SVR\n",
    "svr_rbf = SVR(kernel='rbf', gamma=1e-3, C=100, epsilon=0.1)\n",
    "regr2 = modelfit(svr_rbf, train_df, test_df, predictors, target)"
   ]
  },
  {
   "cell_type": "code",
   "execution_count": null,
   "metadata": {},
   "outputs": [],
   "source": [
    "from mlxtend.feature_selection import SequentialFeatureSelector as sfs\n",
    "from mlxtend.plotting import plot_sequential_feature_selection as plot_sfs\n",
    "\n",
    "\n",
    "def ploting_SequentialFeatureSelector(regr,number):\n",
    "    sfs1 = sfs(regr,k_features=number,forward=True,floating=False,verbose=2,scoring='neg_mean_squared_error',cv=5)\n",
    "    sfs1 = sfs1.fit(train_df[predictors], train_df[target])\n",
    "    print(list(sfs1.k_feature_idx_))\n",
    "    \n",
    "\n",
    "    fig = plot_sfs(sfs1.get_metric_dict(), kind='std_err')\n",
    "\n",
    "    plt.title('Sequential Forward Selection (w. StdErr)')\n",
    "    plt.grid()\n",
    "    plt.show()\n",
    "#Should i drop something?    \n",
    "ploting_SequentialFeatureSelector(regr1,6)\n",
    "ploting_SequentialFeatureSelector(regr2,6)"
   ]
  },
  {
   "cell_type": "code",
   "execution_count": null,
   "metadata": {},
   "outputs": [],
   "source": [
    "print(regr1)\n",
    "print(regr1.coef_)\n",
    "print(regr2)\n",
    "print(regr2.coef_)\n",
    "'We established the effect of Overall rating and Potential on the Age of a player with the simplest model. We regressed Age on Overall rating and Potential.We estimated model, using linear regression.'"
   ]
  },
  {
   "cell_type": "code",
   "execution_count": null,
   "metadata": {},
   "outputs": [],
   "source": []
  },
  {
   "cell_type": "code",
   "execution_count": null,
   "metadata": {},
   "outputs": [],
   "source": []
  },
  {
   "cell_type": "code",
   "execution_count": null,
   "metadata": {},
   "outputs": [],
   "source": []
  },
  {
   "cell_type": "code",
   "execution_count": null,
   "metadata": {},
   "outputs": [],
   "source": []
  },
  {
   "cell_type": "code",
   "execution_count": null,
   "metadata": {},
   "outputs": [],
   "source": []
  },
  {
   "cell_type": "code",
   "execution_count": null,
   "metadata": {},
   "outputs": [],
   "source": []
  },
  {
   "cell_type": "code",
   "execution_count": null,
   "metadata": {},
   "outputs": [],
   "source": []
  }
 ],
 "metadata": {
  "kernelspec": {
   "display_name": "Python 3",
   "language": "python",
   "name": "python3"
  },
  "language_info": {
   "codemirror_mode": {
    "name": "ipython",
    "version": 3
   },
   "file_extension": ".py",
   "mimetype": "text/x-python",
   "name": "python",
   "nbconvert_exporter": "python",
   "pygments_lexer": "ipython3",
   "version": "3.6.5"
  }
 },
 "nbformat": 4,
 "nbformat_minor": 2
}
